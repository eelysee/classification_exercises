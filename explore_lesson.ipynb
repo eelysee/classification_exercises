{
 "cells": [
  {
   "cell_type": "code",
   "execution_count": 1,
   "id": "140bbe3b",
   "metadata": {},
   "outputs": [
    {
     "data": {
      "application/javascript": [
       "IPython.notebook.set_autosave_interval(0)"
      ]
     },
     "metadata": {},
     "output_type": "display_data"
    },
    {
     "name": "stdout",
     "output_type": "stream",
     "text": [
      "Autosave disabled\n"
     ]
    }
   ],
   "source": [
    "%autosave 0"
   ]
  },
  {
   "cell_type": "code",
   "execution_count": 5,
   "id": "bd6694f4",
   "metadata": {},
   "outputs": [],
   "source": [
    "import pandas as pd\n",
    "import matplotlib.pyplot as plt\n",
    "import seaborn as sns\n",
    "\n",
    "from scipy import stats\n",
    "from adam_prepare import titanic_pipeline"
   ]
  },
  {
   "cell_type": "code",
   "execution_count": 8,
   "id": "cd926d74",
   "metadata": {},
   "outputs": [
    {
     "data": {
      "text/plain": [
       "((623, 10), (134, 10), (134, 10))"
      ]
     },
     "execution_count": 8,
     "metadata": {},
     "output_type": "execute_result"
    }
   ],
   "source": [
    "train , val , test = titanic_pipeline()\n",
    "train.shape , val.shape , test.shape"
   ]
  },
  {
   "cell_type": "code",
   "execution_count": 9,
   "id": "63302dd5-6cca-4292-b71b-0d2d8fe8703a",
   "metadata": {},
   "outputs": [
    {
     "data": {
      "text/html": [
       "<div>\n",
       "<style scoped>\n",
       "    .dataframe tbody tr th:only-of-type {\n",
       "        vertical-align: middle;\n",
       "    }\n",
       "\n",
       "    .dataframe tbody tr th {\n",
       "        vertical-align: top;\n",
       "    }\n",
       "\n",
       "    .dataframe thead th {\n",
       "        text-align: right;\n",
       "    }\n",
       "</style>\n",
       "<table border=\"1\" class=\"dataframe\">\n",
       "  <thead>\n",
       "    <tr style=\"text-align: right;\">\n",
       "      <th></th>\n",
       "      <th>survived</th>\n",
       "      <th>sex</th>\n",
       "      <th>age</th>\n",
       "      <th>sibsp</th>\n",
       "      <th>parch</th>\n",
       "      <th>fare</th>\n",
       "      <th>class</th>\n",
       "      <th>deck</th>\n",
       "      <th>embark_town</th>\n",
       "      <th>alone</th>\n",
       "    </tr>\n",
       "  </thead>\n",
       "  <tbody>\n",
       "    <tr>\n",
       "      <th>748</th>\n",
       "      <td>0</td>\n",
       "      <td>male</td>\n",
       "      <td>19.0</td>\n",
       "      <td>1</td>\n",
       "      <td>0</td>\n",
       "      <td>53.1000</td>\n",
       "      <td>First</td>\n",
       "      <td>D</td>\n",
       "      <td>Southampton</td>\n",
       "      <td>0</td>\n",
       "    </tr>\n",
       "    <tr>\n",
       "      <th>45</th>\n",
       "      <td>0</td>\n",
       "      <td>male</td>\n",
       "      <td>29.0</td>\n",
       "      <td>0</td>\n",
       "      <td>0</td>\n",
       "      <td>8.0500</td>\n",
       "      <td>Third</td>\n",
       "      <td>NaN</td>\n",
       "      <td>Southampton</td>\n",
       "      <td>1</td>\n",
       "    </tr>\n",
       "    <tr>\n",
       "      <th>28</th>\n",
       "      <td>1</td>\n",
       "      <td>female</td>\n",
       "      <td>29.0</td>\n",
       "      <td>0</td>\n",
       "      <td>0</td>\n",
       "      <td>7.8792</td>\n",
       "      <td>Third</td>\n",
       "      <td>NaN</td>\n",
       "      <td>Queenstown</td>\n",
       "      <td>1</td>\n",
       "    </tr>\n",
       "    <tr>\n",
       "      <th>633</th>\n",
       "      <td>0</td>\n",
       "      <td>male</td>\n",
       "      <td>29.0</td>\n",
       "      <td>0</td>\n",
       "      <td>0</td>\n",
       "      <td>0.0000</td>\n",
       "      <td>First</td>\n",
       "      <td>NaN</td>\n",
       "      <td>Southampton</td>\n",
       "      <td>1</td>\n",
       "    </tr>\n",
       "    <tr>\n",
       "      <th>403</th>\n",
       "      <td>0</td>\n",
       "      <td>male</td>\n",
       "      <td>28.0</td>\n",
       "      <td>1</td>\n",
       "      <td>0</td>\n",
       "      <td>15.8500</td>\n",
       "      <td>Third</td>\n",
       "      <td>NaN</td>\n",
       "      <td>Southampton</td>\n",
       "      <td>0</td>\n",
       "    </tr>\n",
       "  </tbody>\n",
       "</table>\n",
       "</div>"
      ],
      "text/plain": [
       "     survived     sex   age  sibsp  parch     fare  class deck  embark_town  \\\n",
       "748         0    male  19.0      1      0  53.1000  First    D  Southampton   \n",
       "45          0    male  29.0      0      0   8.0500  Third  NaN  Southampton   \n",
       "28          1  female  29.0      0      0   7.8792  Third  NaN   Queenstown   \n",
       "633         0    male  29.0      0      0   0.0000  First  NaN  Southampton   \n",
       "403         0    male  28.0      1      0  15.8500  Third  NaN  Southampton   \n",
       "\n",
       "     alone  \n",
       "748      0  \n",
       "45       1  \n",
       "28       1  \n",
       "633      1  \n",
       "403      0  "
      ]
     },
     "execution_count": 9,
     "metadata": {},
     "output_type": "execute_result"
    }
   ],
   "source": [
    "train.head()"
   ]
  },
  {
   "cell_type": "markdown",
   "id": "5757e9e3-6928-4ed6-8e87-e92dc1f07c7a",
   "metadata": {
    "tags": []
   },
   "source": [
    "# Does age affect survival"
   ]
  },
  {
   "cell_type": "markdown",
   "id": "03e8e070-9f4c-4c5e-977f-9f7ca62aaa5d",
   "metadata": {},
   "source": [
    "$H_0$ Age does NOT affect survival.\n",
    "\n",
    "$H_a$ Age does affect survival."
   ]
  },
  {
   "cell_type": "code",
   "execution_count": 14,
   "id": "40eefa31-1b64-42e5-98e8-ade23a376179",
   "metadata": {},
   "outputs": [
    {
     "data": {
      "image/png": "[encoded data removed]",
      "text/plain": [
       "<Figure size 640x480 with 1 Axes>"
      ]
     },
     "metadata": {},
     "output_type": "display_data"
    }
   ],
   "source": [
    "sns.histplot(data = train, x='age',hue = 'survived')\n",
    "plt.show()"
   ]
  },
  {
   "cell_type": "markdown",
   "id": "c4f2fc29-9cdd-437a-a987-ecf391b4cd95",
   "metadata": {},
   "source": [
    "Let's run a two-tailed, two-sample (independant) t-test!"
   ]
  },
  {
   "cell_type": "code",
   "execution_count": 17,
   "id": "bad81fae-a4d5-4150-8465-417967e3c431",
   "metadata": {},
   "outputs": [
    {
     "data": {
      "text/plain": [
       "748    19.0\n",
       "45     29.0\n",
       "633    29.0\n",
       "403    28.0\n",
       "695    52.0\n",
       "       ... \n",
       "544    50.0\n",
       "680    29.0\n",
       "476    34.0\n",
       "736    48.0\n",
       "462    47.0\n",
       "Name: age, Length: 384, dtype: float64"
      ]
     },
     "execution_count": 17,
     "metadata": {},
     "output_type": "execute_result"
    }
   ],
   "source": [
    "# The distribution of all those who died\n",
    "train[train.survived == 0].age"
   ]
  },
  {
   "cell_type": "code",
   "execution_count": 18,
   "id": "a6332ee7-f06f-4c74-bc6c-63349f187250",
   "metadata": {},
   "outputs": [
    {
     "data": {
      "text/plain": [
       "(2.3909581216339655, 0.01710125924230745)"
      ]
     },
     "execution_count": 18,
     "metadata": {},
     "output_type": "execute_result"
    }
   ],
   "source": [
    "t_age , p_age = stats.ttest_ind(train[train.survived == 0].age,train[train.survived == 1].age )\n",
    "t_age , p_age"
   ]
  },
  {
   "cell_type": "code",
   "execution_count": 28,
   "id": "9152f3df-79f1-4214-a473-ca3aa602ec8b",
   "metadata": {},
   "outputs": [],
   "source": [
    "def eval_p(p, alpha = 0.5):\n",
    "    if p < alpha:\n",
    "        print(f'The result is significant. We reject the null hypothesis with a p-value of {round(p,5)}')\n",
    "        \n",
    "    else:\n",
    "        print(f'We fail to reject the null hypothesis with a p-value of {round(p,5)}')"
   ]
  },
  {
   "cell_type": "code",
   "execution_count": 21,
   "id": "cb51b0c7-effc-427c-9d8e-9f9a7a1fad50",
   "metadata": {},
   "outputs": [
    {
     "name": "stdout",
     "output_type": "stream",
     "text": [
      "The result is significant. We reject the null hypothesis.\n"
     ]
    }
   ],
   "source": [
    "eval_p(p_age)"
   ]
  },
  {
   "cell_type": "markdown",
   "id": "79d0d6f9-6c67-4abe-9733-bf4cf1cc875e",
   "metadata": {},
   "source": [
    "It appears that age does affect the outcome. Looking at the chart, children ages 5 and younger had a great change to survive the sinking of the Titanic."
   ]
  },
  {
   "cell_type": "markdown",
   "id": "1632d782-ffab-4660-9c63-15a7e334f524",
   "metadata": {},
   "source": [
    "## Did sex of the passenger affect their chance of survival?"
   ]
  },
  {
   "cell_type": "markdown",
   "id": "b7aa6130-057d-4b06-9fe3-53e61720d41c",
   "metadata": {},
   "source": [
    "$H_0$ The sex of the passenger has no relation to their chance of survival.\n",
    "\n",
    "$H_a$ The sex of the passenget is related to their chance of survival."
   ]
  },
  {
   "cell_type": "code",
   "execution_count": 26,
   "id": "e445cd82-77cd-47f0-a1ee-81086fa8ae5b",
   "metadata": {},
   "outputs": [
    {
     "data": {
      "image/png": "[encoded data removed]",
      "text/plain": [
       "<Figure size 640x480 with 1 Axes>"
      ]
     },
     "metadata": {},
     "output_type": "display_data"
    }
   ],
   "source": [
    "# sns.countplot is a value_valuecounts chart\n",
    "sns.countplot(data=train, x= 'sex', hue= 'survived')\n",
    "plt.show()"
   ]
  },
  {
   "cell_type": "markdown",
   "id": "58b1ac53-012c-492d-a19c-24d5fc243e88",
   "metadata": {},
   "source": [
    "We will run a chi-squared test for group membership."
   ]
  },
  {
   "cell_type": "code",
   "execution_count": 33,
   "id": "09347856-8461-410b-9841-ef85e06d1b19",
   "metadata": {},
   "outputs": [
    {
     "data": {
      "text/html": [
       "<div>\n",
       "<style scoped>\n",
       "    .dataframe tbody tr th:only-of-type {\n",
       "        vertical-align: middle;\n",
       "    }\n",
       "\n",
       "    .dataframe tbody tr th {\n",
       "        vertical-align: top;\n",
       "    }\n",
       "\n",
       "    .dataframe thead th {\n",
       "        text-align: right;\n",
       "    }\n",
       "</style>\n",
       "<table border=\"1\" class=\"dataframe\">\n",
       "  <thead>\n",
       "    <tr style=\"text-align: right;\">\n",
       "      <th>survived</th>\n",
       "      <th>0</th>\n",
       "      <th>1</th>\n",
       "    </tr>\n",
       "    <tr>\n",
       "      <th>sex</th>\n",
       "      <th></th>\n",
       "      <th></th>\n",
       "    </tr>\n",
       "  </thead>\n",
       "  <tbody>\n",
       "    <tr>\n",
       "      <th>female</th>\n",
       "      <td>54</td>\n",
       "      <td>163</td>\n",
       "    </tr>\n",
       "    <tr>\n",
       "      <th>male</th>\n",
       "      <td>330</td>\n",
       "      <td>76</td>\n",
       "    </tr>\n",
       "  </tbody>\n",
       "</table>\n",
       "</div>"
      ],
      "text/plain": [
       "survived    0    1\n",
       "sex               \n",
       "female     54  163\n",
       "male      330   76"
      ]
     },
     "execution_count": 33,
     "metadata": {},
     "output_type": "execute_result"
    }
   ],
   "source": [
    "ss_ct = pd.crosstab(train.sex,train.survived)\n",
    "ss_ct"
   ]
  },
  {
   "cell_type": "code",
   "execution_count": 31,
   "id": "c0b1bcc6-a237-4f6b-9e4c-2265bd037fa3",
   "metadata": {},
   "outputs": [
    {
     "name": "stdout",
     "output_type": "stream",
     "text": [
      "The result is significant. We reject the null hypothesis with a p-value of 0.0\n"
     ]
    }
   ],
   "source": [
    "chi2, p_ss,degf, exp = stats.chi2_contingency(ss_ct)\n",
    "eval_p(p_ss)"
   ]
  },
  {
   "cell_type": "markdown",
   "id": "d4de664a-bc4a-4ac0-850d-706a7b4f4895",
   "metadata": {},
   "source": [
    "We conclude that ther is a significant relationship between sex and survival. Looking at our countplot, we see that females had a much higher rate of survival."
   ]
  },
  {
   "cell_type": "markdown",
   "id": "fc37a86c-03a5-4236-bd6f-d7f316371c99",
   "metadata": {
    "jp-MarkdownHeadingCollapsed": true,
    "tags": []
   },
   "source": [
    "# Exploration Summary\n",
    "\n",
    "- I discovered that age affected survival! Children and younger appeared to survive at higher rates than the rest of the passengers.\n",
    "\n",
    "- I discovered that sex affected survival. The female passengers survived at a much higher rate than the male passengers. Female passengers had a ~75% survival rate and maile passengers had a ~20% survival rate."
   ]
  }
 ],
 "metadata": {
  "kernelspec": {
   "display_name": "Python 3 (ipykernel)",
   "language": "python",
   "name": "python3"
  },
  "language_info": {
   "codemirror_mode": {
    "name": "ipython",
    "version": 3
   },
   "file_extension": ".py",
   "mimetype": "text/x-python",
   "name": "python",
   "nbconvert_exporter": "python",
   "pygments_lexer": "ipython3",
   "version": "3.10.9"
  }
 },
 "nbformat": 4,
 "nbformat_minor": 5
}
