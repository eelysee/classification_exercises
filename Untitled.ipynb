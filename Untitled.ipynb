{
 "cells": [
  {
   "cell_type": "markdown",
   "id": "b5c0dcdc-bd50-43fa-b13f-4226cbb87e5c",
   "metadata": {},
   "source": [
    "Theometrics should print out True Positive, False positive, False negative\n",
    "a confusion matrix\n",
    "a classification report\n",
    "a model scor"
   ]
  },
  {
   "cell_type": "code",
   "execution_count": 1,
   "id": "fe87995c-e4e9-4668-af4a-b7a9edb8ef16",
   "metadata": {},
   "outputs": [],
   "source": [
    "import pandas as pd\n",
    "import numpy as np\n",
    "\n",
    "from sklearn.preprocessing import MinMaxScaler\n",
    "from sklearn.neighbors import KNeighborsClassifier as knc\n",
    "from sklearn.metrics import classification_report, accuracy_score , recall_score , precision_score, f1_score\n",
    "\n",
    "from adam_prepare import titanic_pipeline\n",
    "\n",
    "seed = 55"
   ]
  },
  {
   "cell_type": "code",
   "execution_count": 4,
   "id": "9fbf0ce7-7d76-4876-b8ae-47b5fc146f3c",
   "metadata": {},
   "outputs": [],
   "source": [
    "titan = titanic_pipeline()"
   ]
  },
  {
   "cell_type": "code",
   "execution_count": null,
   "id": "0f73b5a1-cdd4-4fd2-946e-d61466a9a938",
   "metadata": {},
   "outputs": [],
   "source": []
  },
  {
   "cell_type": "code",
   "execution_count": null,
   "id": "138a92f7-2a97-4d47-a264-712b6eb55b73",
   "metadata": {},
   "outputs": [],
   "source": [
    "def theometrics(TP, TN, FP, FN):\n",
    "    accuracy = (TP + TN) / (TP + TN + FP + FN)\n",
    "    recall = TP / (TP + FN)\n",
    "    true_positive_rate = TP / (TP + FN)\n",
    "    false_positive_rate = FP / (FP + TN)\n",
    "    true_negative_rate = TN / (TN + FP)\n",
    "    false_negative_rate = FN / (FN + TP)\n",
    "    precision = TP / (TP + FP)\n",
    "    f1_score = 2 * (precision * recall) / (precision + recall)\n",
    "    support = TP + FN\n",
    "    data = {\n",
    "        'Metric': ['Accuracy', 'Recall', 'True Positive Rate', 'False Positive Rate', 'True Negative Rate', 'False Negative Rate', 'Precision', 'F1-Score', 'Support'],\n",
    "        'Value': [accuracy, recall, true_positive_rate, false_positive_rate, true_negative_rate, false_negative_rate, precision, f1_score, support]\n",
    "    }\n",
    "    theometrics = pd.DataFrame(data)\n",
    "    return theometrics"
   ]
  },
  {
   "cell_type": "code",
   "execution_count": null,
   "id": "fe40b441-f931-4765-b4d7-2765ac4fd15c",
   "metadata": {},
   "outputs": [],
   "source": []
  }
 ],
 "metadata": {
  "kernelspec": {
   "display_name": "Python 3 (ipykernel)",
   "language": "python",
   "name": "python3"
  },
  "language_info": {
   "codemirror_mode": {
    "name": "ipython",
    "version": 3
   },
   "file_extension": ".py",
   "mimetype": "text/x-python",
   "name": "python",
   "nbconvert_exporter": "python",
   "pygments_lexer": "ipython3",
   "version": "3.10.9"
  }
 },
 "nbformat": 4,
 "nbformat_minor": 5
}
